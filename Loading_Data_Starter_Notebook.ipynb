{
  "nbformat": 4,
  "nbformat_minor": 0,
  "metadata": {
    "colab": {
      "provenance": [],
      "authorship_tag": "ABX9TyMe1RhGfTmKjmwse+8/yEdS",
      "include_colab_link": true
    },
    "kernelspec": {
      "name": "python3",
      "display_name": "Python 3"
    },
    "language_info": {
      "name": "python"
    }
  },
  "cells": [
    {
      "cell_type": "markdown",
      "metadata": {
        "id": "view-in-github",
        "colab_type": "text"
      },
      "source": [
        "<a href=\"https://colab.research.google.com/github/coding-dojo-data-science/ds-fundamentals-notebooks/blob/main/Loading_Data_Starter_Notebook.ipynb\" target=\"_parent\"><img src=\"https://colab.research.google.com/assets/colab-badge.svg\" alt=\"Open In Colab\"/></a>"
      ]
    },
    {
      "cell_type": "markdown",
      "source": [
        "# Loading Data (Practice)"
      ],
      "metadata": {
        "id": "UjugclH4W23V"
      }
    },
    {
      "cell_type": "markdown",
      "source": [
        "Student Name: "
      ],
      "metadata": {
        "id": "pXugLG77Vxkn"
      }
    },
    {
      "cell_type": "code",
      "execution_count": null,
      "metadata": {
        "id": "77yF6E-tVrN0"
      },
      "outputs": [],
      "source": [
        "# Include needed import(s)\n",
        "\n",
        "\n",
        "# Save the copied file path\n",
        "\n",
        "\n",
        "# Load in the file as a Pandas dataframe named df_insurance\n",
        "\n",
        "\n",
        "# Preview the first 5 rows with .head()\n"
      ]
    },
    {
      "cell_type": "code",
      "source": [
        "# Preview the last 5 rows with .tail()\n"
      ],
      "metadata": {
        "id": "WnaNdM9yV74Q"
      },
      "execution_count": null,
      "outputs": []
    },
    {
      "cell_type": "code",
      "source": [
        "# Obtain summary information with .info()\n"
      ],
      "metadata": {
        "id": "xFiUrJu0WACB"
      },
      "execution_count": null,
      "outputs": []
    },
    {
      "cell_type": "markdown",
      "source": [
        "a) How many rows are there? \n",
        "\n",
        "b) How many columns are there? "
      ],
      "metadata": {
        "id": "798aLos2WJzK"
      }
    }
  ]
}