{
  "nbformat": 4,
  "nbformat_minor": 0,
  "metadata": {
    "colab": {
      "provenance": [],
      "collapsed_sections": [],
      "include_colab_link": true
    },
    "kernelspec": {
      "name": "python3",
      "display_name": "Python 3"
    },
    "language_info": {
      "name": "python"
    }
  },
  "cells": [
    {
      "cell_type": "markdown",
      "metadata": {
        "id": "view-in-github",
        "colab_type": "text"
      },
      "source": [
        "<a href=\"https://colab.research.google.com/github/coding-dojo-data-science/ds-fundamentals-notebooks/blob/main/SOLUTION_Variables_and_Primitive_Data_Types.ipynb\" target=\"_parent\"><img src=\"https://colab.research.google.com/assets/colab-badge.svg\" alt=\"Open In Colab\"/></a>"
      ]
    },
    {
      "cell_type": "markdown",
      "source": [
        "# Variables and Primitive Data Types Practice"
      ],
      "metadata": {
        "id": "zy9NuR2fuGeT"
      }
    },
    {
      "cell_type": "markdown",
      "source": [
        "# Task 0\n",
        "Print the string 'Hello World!'"
      ],
      "metadata": {
        "id": "uyujPC7qRJlm"
      }
    },
    {
      "cell_type": "code",
      "source": [
        "# your code here\n",
        "print(\"Hello World!\")"
      ],
      "metadata": {
        "id": "dtKQsi98RbQf",
        "colab": {
          "base_uri": "https://localhost:8080/"
        },
        "outputId": "6fda4114-7bf9-4210-f4b7-474be47d432c"
      },
      "execution_count": null,
      "outputs": [
        {
          "output_type": "stream",
          "name": "stdout",
          "text": [
            "Hello World!\n"
          ]
        }
      ]
    },
    {
      "cell_type": "markdown",
      "source": [
        "## Task 1a\n",
        "\n",
        "Define a variable **distance** that points to 140.\n",
        "\n",
        "Define a variable **time** that points to 3.\n",
        "\n",
        "Define a variable **speed** that points to the calculation for the speed. Be sure to use the variables names in your calculation. (Speed = distance/time)  \n",
        "\n",
        "Print the speed using print(speed)"
      ],
      "metadata": {
        "id": "iHQFHZyXuM0k"
      }
    },
    {
      "cell_type": "code",
      "execution_count": null,
      "metadata": {
        "id": "LlQ8wB57t9n0",
        "colab": {
          "base_uri": "https://localhost:8080/"
        },
        "outputId": "ddd718c8-c913-4c6c-b15b-86e339a418d8"
      },
      "outputs": [
        {
          "output_type": "stream",
          "name": "stdout",
          "text": [
            "46.666666666666664\n"
          ]
        }
      ],
      "source": [
        "# your code here\n",
        "distance = 140\n",
        "time = 3\n",
        "speed = distance/time\n",
        "print(speed)"
      ]
    },
    {
      "cell_type": "markdown",
      "source": [
        "#Task 1b\n",
        "Build on your previous code.\n",
        "\n",
        "Instead of just printing speed, print an f statement that says:\n",
        "\n",
        "If it takes -- hours to travel -- miles, the speed is -- miles per hour.  \n",
        "\n",
        "Fill in the blanks with the appropriate variables."
      ],
      "metadata": {
        "id": "h7juifK_vMXb"
      }
    },
    {
      "cell_type": "code",
      "source": [
        "# your code here\n",
        "print(f\"If it takes {time} hours to travel {distance}, the speed is {speed} miles per hour.\")"
      ],
      "metadata": {
        "id": "dt_bJZCovkvP",
        "colab": {
          "base_uri": "https://localhost:8080/"
        },
        "outputId": "a883a928-b0a6-4b03-b6f8-bb35a2f8fe3e"
      },
      "execution_count": null,
      "outputs": [
        {
          "output_type": "stream",
          "name": "stdout",
          "text": [
            "If it takes 3 hours to travel 140, the speed is 46.666666666666664 miles per hour.\n"
          ]
        }
      ]
    },
    {
      "cell_type": "markdown",
      "source": [
        "# Task 1c\n",
        "Check the data type of all three of your variables"
      ],
      "metadata": {
        "id": "KOy7i12dwjkE"
      }
    },
    {
      "cell_type": "code",
      "source": [
        "# your code here\n",
        "type(distance)"
      ],
      "metadata": {
        "id": "QdUNyzrAxHiD",
        "colab": {
          "base_uri": "https://localhost:8080/"
        },
        "outputId": "e508cfe2-3bc3-4936-f8af-9a5f90729fb2"
      },
      "execution_count": null,
      "outputs": [
        {
          "output_type": "execute_result",
          "data": {
            "text/plain": [
              "int"
            ]
          },
          "metadata": {},
          "execution_count": 4
        }
      ]
    },
    {
      "cell_type": "code",
      "source": [
        "# your code here\n",
        "type(time)"
      ],
      "metadata": {
        "id": "aAOB3_Q6xSYs",
        "colab": {
          "base_uri": "https://localhost:8080/"
        },
        "outputId": "8cbb3cf9-8d6a-418e-9c0c-f6c53833e9d8"
      },
      "execution_count": null,
      "outputs": [
        {
          "output_type": "execute_result",
          "data": {
            "text/plain": [
              "int"
            ]
          },
          "metadata": {},
          "execution_count": 5
        }
      ]
    },
    {
      "cell_type": "code",
      "source": [
        "# your code here\n",
        "type(speed)"
      ],
      "metadata": {
        "id": "_U8xxGQbxU19",
        "colab": {
          "base_uri": "https://localhost:8080/"
        },
        "outputId": "f994811d-334b-4425-87f8-b32c0b22c2c6"
      },
      "execution_count": null,
      "outputs": [
        {
          "output_type": "execute_result",
          "data": {
            "text/plain": [
              "float"
            ]
          },
          "metadata": {},
          "execution_count": 6
        }
      ]
    },
    {
      "cell_type": "markdown",
      "source": [
        "# Task 1d\n",
        "Change the data type of time from integer to float.\n",
        "\n",
        "Recheck the data type to confirm it is a float."
      ],
      "metadata": {
        "id": "OFz65OX-xcHa"
      }
    },
    {
      "cell_type": "code",
      "source": [
        "# your code here\n",
        "time = float(time)\n",
        "type(time)"
      ],
      "metadata": {
        "id": "RxodwaNpxaQm",
        "colab": {
          "base_uri": "https://localhost:8080/"
        },
        "outputId": "b810452c-7232-472e-dfc4-0d7c67828bf0"
      },
      "execution_count": null,
      "outputs": [
        {
          "output_type": "execute_result",
          "data": {
            "text/plain": [
              "float"
            ]
          },
          "metadata": {},
          "execution_count": 7
        }
      ]
    },
    {
      "cell_type": "markdown",
      "source": [
        "# Task 2a\n",
        "Define a variable **customer** that points to a string with the customer's name, Charlene.\n",
        "\n",
        "Print the customer's name using print(customer)"
      ],
      "metadata": {
        "id": "XHbK5vGrycvU"
      }
    },
    {
      "cell_type": "code",
      "source": [
        "# your code here\n",
        "customer = \"Charlene\"\n",
        "print(customer)"
      ],
      "metadata": {
        "id": "NW5j7WZ_y604",
        "colab": {
          "base_uri": "https://localhost:8080/"
        },
        "outputId": "269ad4eb-1ec7-4fdc-82bf-1c029fa73e4e"
      },
      "execution_count": null,
      "outputs": [
        {
          "output_type": "stream",
          "name": "stdout",
          "text": [
            "Charlene\n"
          ]
        }
      ]
    },
    {
      "cell_type": "markdown",
      "source": [
        "# Task 2b\n",
        "Check the data type of customer"
      ],
      "metadata": {
        "id": "rqi5fTVozocO"
      }
    },
    {
      "cell_type": "code",
      "source": [
        "# your code here\n",
        "type(customer)"
      ],
      "metadata": {
        "id": "rDhc3ttLzjCN",
        "colab": {
          "base_uri": "https://localhost:8080/"
        },
        "outputId": "ce578a2f-4c1b-437f-b931-1e9216fb1fe8"
      },
      "execution_count": null,
      "outputs": [
        {
          "output_type": "execute_result",
          "data": {
            "text/plain": [
              "str"
            ]
          },
          "metadata": {},
          "execution_count": 9
        }
      ]
    },
    {
      "cell_type": "markdown",
      "source": [
        "# Task 2c\n",
        "Set up a comparison statement using == to test if the customer is Charlene. \n",
        "\n",
        "Your code should return True."
      ],
      "metadata": {
        "id": "XuM8gGRmzyz0"
      }
    },
    {
      "cell_type": "code",
      "source": [
        "# your code here\n",
        "customer == 'Charlene'"
      ],
      "metadata": {
        "id": "m-69lURK0NIp",
        "colab": {
          "base_uri": "https://localhost:8080/"
        },
        "outputId": "4e750e1a-7ab1-49d9-a43a-1902feada75d"
      },
      "execution_count": null,
      "outputs": [
        {
          "output_type": "execute_result",
          "data": {
            "text/plain": [
              "True"
            ]
          },
          "metadata": {},
          "execution_count": 10
        }
      ]
    },
    {
      "cell_type": "markdown",
      "source": [
        "# Task 2d\n",
        "Set up a compararison statement using == to test if the customer is Bob.\n",
        "\n",
        "Your code should return False."
      ],
      "metadata": {
        "id": "Ox9QmPr-0NlO"
      }
    },
    {
      "cell_type": "code",
      "source": [
        "# your code here\n",
        "customer == 'Bob'"
      ],
      "metadata": {
        "id": "BvWaCs5R0SO-",
        "colab": {
          "base_uri": "https://localhost:8080/"
        },
        "outputId": "9665713b-18a1-43f0-87ac-2e4ed429c920"
      },
      "execution_count": null,
      "outputs": [
        {
          "output_type": "execute_result",
          "data": {
            "text/plain": [
              "False"
            ]
          },
          "metadata": {},
          "execution_count": 11
        }
      ]
    }
  ]
}