{
  "nbformat": 4,
  "nbformat_minor": 0,
  "metadata": {
    "colab": {
      "provenance": [],
      "toc_visible": true,
      "include_colab_link": true
    },
    "kernelspec": {
      "name": "python3",
      "display_name": "Python 3"
    },
    "language_info": {
      "name": "python"
    }
  },
  "cells": [
    {
      "cell_type": "markdown",
      "metadata": {
        "id": "view-in-github",
        "colab_type": "text"
      },
      "source": [
        "<a href=\"https://colab.research.google.com/github/coding-dojo-data-science/ds-fundamentals-notebooks/blob/main/SOLUTIONS_Dictionaries.ipynb\" target=\"_parent\"><img src=\"https://colab.research.google.com/assets/colab-badge.svg\" alt=\"Open In Colab\"/></a>"
      ]
    },
    {
      "cell_type": "markdown",
      "source": [
        "# Dictionaries\n"
      ],
      "metadata": {
        "id": "eyLJH2OFOtxy"
      }
    },
    {
      "cell_type": "markdown",
      "source": [
        "In this notebook you will see examples of indexing dictionaries for  retrieving values, upating values, and creating a new key:value pair.  In this practice, you are first provided with an example followed by a chance to try it on your own.\n",
        "\n"
      ],
      "metadata": {
        "id": "zPAul2iiPAEL"
      }
    },
    {
      "cell_type": "markdown",
      "source": [
        "\n",
        "## Tracking Coworker's Favorite Colors\n"
      ],
      "metadata": {
        "id": "d8YR6teXyS58"
      }
    },
    {
      "cell_type": "markdown",
      "source": [
        "\n",
        "A group of co-workers realized that they don't know each other very well beyond the day to day tasks of their jobs.\n",
        "\n",
        "To help build team comraderie, they decide to share their favorite colors with everyone."
      ],
      "metadata": {
        "id": "Tnp7ObvA12kJ"
      }
    },
    {
      "cell_type": "markdown",
      "source": [
        "## 1. Create a dictionary\n",
        "Let's make a dictionary of favorite colors, called `fav_colors` to track this information.  \n",
        "\n",
        "Since we want to be able to use a perosn' name to look up their favorite color, we will use a dictionary with everyone's names as the keys and their favorite colors as the values.\n",
        "\n",
        "* Remember that values in a dictionary are wrapped in curly brackets { }.\n",
        "\n",
        "* The format for each entry is key : value\n",
        "\n",
        "\n",
        "Run the cell below to create the dictionary of favorite colors."
      ],
      "metadata": {
        "id": "2Cwrm8cM-UT-"
      }
    },
    {
      "cell_type": "code",
      "source": [
        "## Run this cell without making changes.\n",
        "\n",
        "# Create the dictionary \n",
        "fav_colors = {'James':'Red',\n",
        "              'Purvi':\"Orange\",\n",
        "              \"Sherlin\":'Purple',\n",
        "              'Josh':'Indigo'}\n",
        "fav_colors"
      ],
      "metadata": {
        "id": "gNEZel1QO0dB",
        "colab": {
          "base_uri": "https://localhost:8080/"
        },
        "outputId": "fd5111b4-a7fb-41b6-b0d4-810872594f87"
      },
      "execution_count": 1,
      "outputs": [
        {
          "output_type": "execute_result",
          "data": {
            "text/plain": [
              "{'James': 'Red', 'Purvi': 'Orange', 'Sherlin': 'Purple', 'Josh': 'Indigo'}"
            ]
          },
          "metadata": {},
          "execution_count": 1
        }
      ]
    },
    {
      "cell_type": "markdown",
      "source": [
        "##2. Add a key: value pair to a dictionary\n",
        "A new person just the joined the team and needs to be added to our dictionary. We need to add Neerja to our dictionary and her favorite color is Green."
      ],
      "metadata": {
        "id": "cXTnJA0s1XWC"
      }
    },
    {
      "cell_type": "code",
      "source": [
        "# Run this cell without making changes\n",
        "\n",
        "# add a new key for \"Neerja\" with the value set to Aqua\n",
        "fav_colors['Neerja'] = 'Green'\n",
        "\n",
        "# display the full dictionary\n",
        "fav_colors"
      ],
      "metadata": {
        "id": "A-kV2zq-0MHN",
        "colab": {
          "base_uri": "https://localhost:8080/"
        },
        "outputId": "02ae472e-0aff-4cb0-bbc8-1de0274686c8"
      },
      "execution_count": 2,
      "outputs": [
        {
          "output_type": "execute_result",
          "data": {
            "text/plain": [
              "{'James': 'Red',\n",
              " 'Purvi': 'Orange',\n",
              " 'Sherlin': 'Purple',\n",
              " 'Josh': 'Indigo',\n",
              " 'Neerja': 'Green'}"
            ]
          },
          "metadata": {},
          "execution_count": 2
        }
      ]
    },
    {
      "cell_type": "markdown",
      "source": [
        "### 💪 2b. Your Turn"
      ],
      "metadata": {
        "id": "NdndpZEJ1bBc"
      }
    },
    {
      "cell_type": "markdown",
      "source": [
        "- Add your own name and favorite color to the `fav_colors` dictionary."
      ],
      "metadata": {
        "id": "0_pHVXj51cp3"
      }
    },
    {
      "cell_type": "code",
      "source": [
        "# Add a new key with your name and set it to your fav color\n",
        "fav_colors['Your_Name'] = 'Your_fav_color'\n",
        "\n",
        "# print the updated dictionary\n",
        "print(fav_colors)"
      ],
      "metadata": {
        "id": "YumFcdpp1gtn",
        "colab": {
          "base_uri": "https://localhost:8080/"
        },
        "outputId": "927fbd44-0a36-4f7a-feb7-947f10b2424a"
      },
      "execution_count": 3,
      "outputs": [
        {
          "output_type": "stream",
          "name": "stdout",
          "text": [
            "{'James': 'Red', 'Purvi': 'Orange', 'Sherlin': 'Purple', 'Josh': 'Indigo', 'Neerja': 'Green', 'Your_Name': 'Your_fav_color'}\n"
          ]
        }
      ]
    },
    {
      "cell_type": "markdown",
      "source": [
        "## 3. Updating an existing item in a Dictionary."
      ],
      "metadata": {
        "id": "yL7oyAPC5abV"
      }
    },
    {
      "cell_type": "markdown",
      "source": [
        "On second thought, James has had a change of heart and his new favorite color is Blue. Let's change the value for James to Blue and then confirm the value has been updated."
      ],
      "metadata": {
        "id": "Pgx9as4E5bsm"
      }
    },
    {
      "cell_type": "code",
      "source": [
        "# Run this cell without changes\n",
        "\n",
        "# Updating the value for James to \"Blue\"\n",
        "fav_colors['James'] = 'Blue'\n",
        "\n",
        "# Confirm that the value has changed\n",
        "fav_colors['James']"
      ],
      "metadata": {
        "id": "iGtn6aea5jcS",
        "colab": {
          "base_uri": "https://localhost:8080/",
          "height": 36
        },
        "outputId": "34aa2410-da73-4292-f1ae-44f864115395"
      },
      "execution_count": 4,
      "outputs": [
        {
          "output_type": "execute_result",
          "data": {
            "text/plain": [
              "'Blue'"
            ],
            "application/vnd.google.colaboratory.intrinsic+json": {
              "type": "string"
            }
          },
          "metadata": {},
          "execution_count": 4
        }
      ]
    },
    {
      "cell_type": "markdown",
      "source": [
        "### 💪 3b. Your Turn\n"
      ],
      "metadata": {
        "id": "uZVdZd2453aG"
      }
    },
    {
      "cell_type": "markdown",
      "source": [
        "Purvi has also realized that she no longer likes Orange and that her true favorite color is Green.\n",
        "\n",
        "Update the fav_colors dictionary to change Purvi's value to Green."
      ],
      "metadata": {
        "id": "NDnJ1FMe56tJ"
      }
    },
    {
      "cell_type": "code",
      "source": [
        "# Update the value for Purvi to \"Green\"\n",
        "fav_colors['Purvi'] = 'Green'\n",
        "# Confirm that the value has changed\n",
        "fav_colors['Purvi']"
      ],
      "metadata": {
        "id": "Qln3g-Fn6Jgc",
        "colab": {
          "base_uri": "https://localhost:8080/",
          "height": 36
        },
        "outputId": "78bedac7-46dd-4512-b19f-c51b901ad8a3"
      },
      "execution_count": 5,
      "outputs": [
        {
          "output_type": "execute_result",
          "data": {
            "text/plain": [
              "'Green'"
            ],
            "application/vnd.google.colaboratory.intrinsic+json": {
              "type": "string"
            }
          },
          "metadata": {},
          "execution_count": 5
        }
      ]
    },
    {
      "cell_type": "markdown",
      "source": [
        "## 4. Look up a value using a key in a dictionary\n",
        "\n",
        "We want to look up Neerja's favorite color.  "
      ],
      "metadata": {
        "id": "NodddfqE_3wX"
      }
    },
    {
      "cell_type": "code",
      "source": [
        "# Look up a value using the dictionary[key]\n",
        "fav_colors['Neerja']"
      ],
      "metadata": {
        "id": "hu6y-WktAHaP"
      },
      "execution_count": null,
      "outputs": []
    },
    {
      "cell_type": "markdown",
      "source": [
        "### 💪 4b. Your Turn\n",
        "Look up Josh's favorite color using the dictionary key"
      ],
      "metadata": {
        "id": "AKX9gHZdBMkc"
      }
    },
    {
      "cell_type": "code",
      "source": [
        "# Look up a value using the dictionary[key]\n",
        "fav_colors['Josh']"
      ],
      "metadata": {
        "id": "cs41dtJuBWIp",
        "colab": {
          "base_uri": "https://localhost:8080/",
          "height": 36
        },
        "outputId": "1e1c922d-2f28-4d4e-a4c9-fd415af760d4"
      },
      "execution_count": 6,
      "outputs": [
        {
          "output_type": "execute_result",
          "data": {
            "text/plain": [
              "'Indigo'"
            ],
            "application/vnd.google.colaboratory.intrinsic+json": {
              "type": "string"
            }
          },
          "metadata": {},
          "execution_count": 6
        }
      ]
    }
  ]
}