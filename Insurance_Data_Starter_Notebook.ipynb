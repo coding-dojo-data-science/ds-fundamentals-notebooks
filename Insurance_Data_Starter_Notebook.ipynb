{
  "nbformat": 4,
  "nbformat_minor": 0,
  "metadata": {
    "colab": {
      "provenance": [],
      "authorship_tag": "ABX9TyN77EirBtPaSyURbkbDZJq3",
      "include_colab_link": true
    },
    "kernelspec": {
      "name": "python3",
      "display_name": "Python 3"
    },
    "language_info": {
      "name": "python"
    }
  },
  "cells": [
    {
      "cell_type": "markdown",
      "metadata": {
        "id": "view-in-github",
        "colab_type": "text"
      },
      "source": [
        "<a href=\"https://colab.research.google.com/github/coding-dojo-data-science/ds-fundamentals-notebooks/blob/main/Insurance_Data_Starter_Notebook.ipynb\" target=\"_parent\"><img src=\"https://colab.research.google.com/assets/colab-badge.svg\" alt=\"Open In Colab\"/></a>"
      ]
    },
    {
      "cell_type": "markdown",
      "source": [
        "This notebook will be used for 4 practice assignments:\n",
        "\n",
        "- Loading Data (Practice)\n",
        "- Slicing (Practice)\n",
        "- Filtering (Practice)\n",
        "- Groupby/Aggregates (Practice)\n",
        "\n",
        "The first assignment (Loading Data) must be completed before the other three assignments may be completed.\n",
        "\n",
        "We recommend you do each of the remaining sections as you encounter them on the Learning Platform.\n"
      ],
      "metadata": {
        "id": "H5gctViUcq-O"
      }
    },
    {
      "cell_type": "markdown",
      "source": [
        "[Insurance Data](https://drive.google.com/file/d/1-7mcBguuzAV7JWVu2XCpgAO-fO6X2cl0/view?usp=sharing)"
      ],
      "metadata": {
        "id": "qDgRQYxzoBar"
      }
    },
    {
      "cell_type": "markdown",
      "source": [
        "# Loading Data (Practice)"
      ],
      "metadata": {
        "id": "UjugclH4W23V"
      }
    },
    {
      "cell_type": "markdown",
      "source": [
        "Student Name: "
      ],
      "metadata": {
        "id": "pXugLG77Vxkn"
      }
    },
    {
      "cell_type": "markdown",
      "source": [
        "1. Open the link and save the shared file to your Drive in the week 2 data folder.\n",
        "\n",
        "2. Mount your drive\n",
        "\n",
        "3. Find and copy the file path of the insurance_mod.csv file"
      ],
      "metadata": {
        "id": "aLWFGWLmiXIr"
      }
    },
    {
      "cell_type": "code",
      "source": [
        "# Save the copied file path as a variable\n",
        "# Surround the path with quotes.\n"
      ],
      "metadata": {
        "id": "B4Nd1f22inKI"
      },
      "execution_count": null,
      "outputs": []
    },
    {
      "cell_type": "markdown",
      "source": [
        "4. "
      ],
      "metadata": {
        "id": "CL9KQmTNivB_"
      }
    },
    {
      "cell_type": "code",
      "execution_count": null,
      "metadata": {
        "id": "77yF6E-tVrN0"
      },
      "outputs": [],
      "source": [
        "# Include needed import(s)\n",
        "\n",
        "\n",
        "# Load in the file as a Pandas dataframe named df_insurance\n"
      ]
    },
    {
      "cell_type": "markdown",
      "source": [
        "5. "
      ],
      "metadata": {
        "id": "xJ5WlpgdjWlU"
      }
    },
    {
      "cell_type": "code",
      "source": [
        "# Preview the first 5 rows with .tail()"
      ],
      "metadata": {
        "id": "rvhk1biKjWFQ"
      },
      "execution_count": null,
      "outputs": []
    },
    {
      "cell_type": "markdown",
      "source": [
        "6. "
      ],
      "metadata": {
        "id": "QZ76WUV5jYA_"
      }
    },
    {
      "cell_type": "code",
      "source": [
        "# Preview the last 5 rows with .tail()\n"
      ],
      "metadata": {
        "id": "WnaNdM9yV74Q"
      },
      "execution_count": null,
      "outputs": []
    },
    {
      "cell_type": "markdown",
      "source": [
        "7. "
      ],
      "metadata": {
        "id": "FxsYQwwSjZ8r"
      }
    },
    {
      "cell_type": "code",
      "source": [
        "# Obtain summary information with .info()\n"
      ],
      "metadata": {
        "id": "xFiUrJu0WACB"
      },
      "execution_count": null,
      "outputs": []
    },
    {
      "cell_type": "markdown",
      "source": [
        "8.\n",
        "\n",
        "a) How many rows are there? \n",
        "\n",
        "b) How many columns are there? "
      ],
      "metadata": {
        "id": "798aLos2WJzK"
      }
    },
    {
      "cell_type": "markdown",
      "source": [
        "You have completed the \"Loading Data\" Practice Assignment.\n",
        "\n",
        "Stop here.\n",
        "\n",
        "Save and submit this notebook now.\n",
        "\n",
        "Continue working through the lessons.\n",
        "\n",
        "Return to your copy of this notebook for the next practice assignment.\n",
        "\n"
      ],
      "metadata": {
        "id": "Gi_mvd9baMMB"
      }
    },
    {
      "cell_type": "markdown",
      "source": [
        "# Slicing (Practice)\n"
      ],
      "metadata": {
        "id": "-0BYRDxkZ647"
      }
    },
    {
      "cell_type": "markdown",
      "source": [
        "1. "
      ],
      "metadata": {
        "id": "rnwxMuiFkC_E"
      }
    },
    {
      "cell_type": "code",
      "source": [
        "# Slice just the row for the customer at index 50\n",
        "# Use single brackets so the output is a Pandas Series\n"
      ],
      "metadata": {
        "id": "YmIAIxXwatOw"
      },
      "execution_count": null,
      "outputs": []
    },
    {
      "cell_type": "markdown",
      "source": [
        "2. "
      ],
      "metadata": {
        "id": "mOuJWr8CkFBC"
      }
    },
    {
      "cell_type": "code",
      "source": [
        "# Slice just the row for the customer at index 50\n",
        "# Use double brackets so the output is a Pandas Dataframe\n"
      ],
      "metadata": {
        "id": "chdwrj7ma1II"
      },
      "execution_count": null,
      "outputs": []
    },
    {
      "cell_type": "markdown",
      "source": [
        "3. "
      ],
      "metadata": {
        "id": "Mw0_dDHakG9Q"
      }
    },
    {
      "cell_type": "code",
      "source": [
        "# find out if the customer at index 20 was a male or female by slicing index 20 and column \"Sex\"\n"
      ],
      "metadata": {
        "id": "ezn_6d8pa3gc"
      },
      "execution_count": null,
      "outputs": []
    },
    {
      "cell_type": "markdown",
      "source": [
        "4. "
      ],
      "metadata": {
        "id": "EXvN0rBKkJcV"
      }
    },
    {
      "cell_type": "code",
      "source": [
        "# Slice the entire smoker column using square brackets\n"
      ],
      "metadata": {
        "id": "WIcK2scJa7JX"
      },
      "execution_count": null,
      "outputs": []
    },
    {
      "cell_type": "markdown",
      "source": [
        "5. "
      ],
      "metadata": {
        "id": "-C4qqYeDkKsl"
      }
    },
    {
      "cell_type": "code",
      "source": [
        "# Slice the entire smoker column using .loc\n"
      ],
      "metadata": {
        "id": "MzzXeAkXa8Ef"
      },
      "execution_count": null,
      "outputs": []
    },
    {
      "cell_type": "markdown",
      "source": [
        "6. "
      ],
      "metadata": {
        "id": "Jo74xe0YkMBu"
      }
    },
    {
      "cell_type": "code",
      "source": [
        "# Slice the entire smoker column using either method, but this time save it as a variable called \"smoker\"\n"
      ],
      "metadata": {
        "id": "VNe-_UlNa-MJ"
      },
      "execution_count": null,
      "outputs": []
    },
    {
      "cell_type": "code",
      "source": [
        "# Now get the sum of the smoker variable to see how many of the customers smoke\n"
      ],
      "metadata": {
        "id": "sA5h3uQtbA0R"
      },
      "execution_count": null,
      "outputs": []
    },
    {
      "cell_type": "code",
      "source": [
        "# To get the ratio use .mean()\n"
      ],
      "metadata": {
        "id": "dP66L49-bDvK"
      },
      "execution_count": null,
      "outputs": []
    },
    {
      "cell_type": "markdown",
      "source": [
        "You have completed the \"Slicing Data\" Practice Assignment.\n",
        "\n",
        "Stop here.\n",
        "\n",
        "Save and submit this notebook now.\n",
        "\n",
        "Continue working through the lessons.\n",
        "\n",
        "Return to your copy of this notebook for the next practice assignment."
      ],
      "metadata": {
        "id": "g1SxhQQlbH3G"
      }
    },
    {
      "cell_type": "markdown",
      "source": [
        "# Filtering (Practice)"
      ],
      "metadata": {
        "id": "1kZSt4JBbUvJ"
      }
    },
    {
      "cell_type": "markdown",
      "source": [
        "1. "
      ],
      "metadata": {
        "id": "ETcSxqoHkS7J"
      }
    },
    {
      "cell_type": "code",
      "source": [
        "# Create a filter called under_30_filter for the rows where the age is less than 30\n"
      ],
      "metadata": {
        "id": "8EksQ1JqbaZe"
      },
      "execution_count": null,
      "outputs": []
    },
    {
      "cell_type": "code",
      "source": [
        "# View the under_30 filter to see the boolean index\n"
      ],
      "metadata": {
        "id": "ELLpUQyJbbXV"
      },
      "execution_count": null,
      "outputs": []
    },
    {
      "cell_type": "code",
      "source": [
        "# Get the sum of the true values for the under_30 filter\n",
        "# This is the number of customers who are under the age of 30\n"
      ],
      "metadata": {
        "id": "-Fr6jUXybdor"
      },
      "execution_count": 1,
      "outputs": []
    },
    {
      "cell_type": "code",
      "source": [
        "# Apply the boolean index to filter the dataframe to include just customers who are under 30\n"
      ],
      "metadata": {
        "id": "XJjOoY7Vbh48"
      },
      "execution_count": null,
      "outputs": []
    },
    {
      "cell_type": "markdown",
      "source": [
        "2. "
      ],
      "metadata": {
        "id": "i3PbBi4ukWbP"
      }
    },
    {
      "cell_type": "code",
      "source": [
        "# Create a filter for males\n"
      ],
      "metadata": {
        "id": "s1wh8K3MblUl"
      },
      "execution_count": null,
      "outputs": []
    },
    {
      "cell_type": "code",
      "source": [
        "# View the filter to see the boolean index\n"
      ],
      "metadata": {
        "id": "iNKD4dS9bnHc"
      },
      "execution_count": null,
      "outputs": []
    },
    {
      "cell_type": "code",
      "source": [
        "# Obtain the sum of True values in the male_filter\n",
        "# This is the number of customers who are male\n"
      ],
      "metadata": {
        "id": "HElHAEdebo80"
      },
      "execution_count": null,
      "outputs": []
    },
    {
      "cell_type": "code",
      "source": [
        "# Apply the boolean index to filter the dataframe to include just males\n"
      ],
      "metadata": {
        "id": "3uRQf_x0bq0-"
      },
      "execution_count": null,
      "outputs": []
    },
    {
      "cell_type": "markdown",
      "source": [
        "3. "
      ],
      "metadata": {
        "id": "3xvUrbGQkYhj"
      }
    },
    {
      "cell_type": "code",
      "source": [
        "# Combine the under_30_filter and the male_filter to create a single filter called under_30_male_filter\n"
      ],
      "metadata": {
        "id": "XrEEVhxgbta0"
      },
      "execution_count": null,
      "outputs": []
    },
    {
      "cell_type": "code",
      "source": [
        "# Display the boolean index of the under_30_male_filter\n"
      ],
      "metadata": {
        "id": "1qQ7mYIjbvXa"
      },
      "execution_count": null,
      "outputs": []
    },
    {
      "cell_type": "code",
      "source": [
        "# Get the sum of the under_30_male_filter True values\n",
        "# This is the number of customers who are both under 30 and male\n"
      ],
      "metadata": {
        "id": "imt3cZI2bxfZ"
      },
      "execution_count": null,
      "outputs": []
    },
    {
      "cell_type": "code",
      "source": [
        "# Apply the under_30_male_filter to the dataframe\n"
      ],
      "metadata": {
        "id": "g4Ke9si1b0np"
      },
      "execution_count": null,
      "outputs": []
    },
    {
      "cell_type": "markdown",
      "source": [
        "4. "
      ],
      "metadata": {
        "id": "SXBbjI0RkayT"
      }
    },
    {
      "cell_type": "code",
      "source": [
        "# Create a filter for regions that contain south using .str.contains\n"
      ],
      "metadata": {
        "id": "U9EWVxwOb2wz"
      },
      "execution_count": null,
      "outputs": []
    },
    {
      "cell_type": "code",
      "source": [
        "# Apply the south_filter to the dataframe\n"
      ],
      "metadata": {
        "id": "cIDjCtbcb443"
      },
      "execution_count": null,
      "outputs": []
    },
    {
      "cell_type": "markdown",
      "source": [
        "You have completed the \"Filtering Data\" Practice Assignment.\n",
        "\n",
        "Stop here.\n",
        "\n",
        "Save and submit this notebook now.\n",
        "\n",
        "Continue working through the lessons.\n",
        "\n",
        "Return to your copy of this notebook for the next practice assignment."
      ],
      "metadata": {
        "id": "h4yZ6LECb7Mj"
      }
    },
    {
      "cell_type": "markdown",
      "source": [
        "# Groupby/Aggregrates Practice"
      ],
      "metadata": {
        "id": "weDJ5_1TcBVg"
      }
    },
    {
      "cell_type": "markdown",
      "source": [
        "1. "
      ],
      "metadata": {
        "id": "4FE-xdkeiFce"
      }
    },
    {
      "cell_type": "code",
      "source": [
        "# Get the average age for the entire data set\n"
      ],
      "metadata": {
        "id": "P9MunMMPcGTH"
      },
      "execution_count": null,
      "outputs": []
    },
    {
      "cell_type": "markdown",
      "source": [
        "2. "
      ],
      "metadata": {
        "id": "2LBoPMjBiGiz"
      }
    },
    {
      "cell_type": "code",
      "source": [
        "# Get the maximum age for the entire data set\n"
      ],
      "metadata": {
        "id": "MBrxue1ecIME"
      },
      "execution_count": null,
      "outputs": []
    },
    {
      "cell_type": "markdown",
      "source": [
        "3. "
      ],
      "metadata": {
        "id": "xGWoVeCwiH3I"
      }
    },
    {
      "cell_type": "code",
      "source": [
        "# Get the minimum age for the entire data set\n"
      ],
      "metadata": {
        "id": "UTOVFTpScKxi"
      },
      "execution_count": null,
      "outputs": []
    },
    {
      "cell_type": "markdown",
      "source": [
        "4. "
      ],
      "metadata": {
        "id": "ZkDEXn-LiJFr"
      }
    },
    {
      "cell_type": "code",
      "source": [
        "# Get the average charges for the entire data set\n"
      ],
      "metadata": {
        "id": "2k2zkYTWcMlH"
      },
      "execution_count": null,
      "outputs": []
    },
    {
      "cell_type": "markdown",
      "source": [
        "5. "
      ],
      "metadata": {
        "id": "jBdj2S9biLur"
      }
    },
    {
      "cell_type": "code",
      "source": [
        "# Get the average charges grouped by sex\n"
      ],
      "metadata": {
        "id": "Iq-KpFNecObo"
      },
      "execution_count": null,
      "outputs": []
    },
    {
      "cell_type": "markdown",
      "source": [
        "6. "
      ],
      "metadata": {
        "id": "fLtLkBn0iNEK"
      }
    },
    {
      "cell_type": "code",
      "source": [
        "# Get the average charges grouped by smoker or not\n"
      ],
      "metadata": {
        "id": "-rBRfmEdcPQ2"
      },
      "execution_count": null,
      "outputs": []
    },
    {
      "cell_type": "markdown",
      "source": [
        "7. "
      ],
      "metadata": {
        "id": "ImJ9VI2JiOaL"
      }
    },
    {
      "cell_type": "code",
      "source": [
        "# Get the average charges grouped by smoker or not and by sex\n"
      ],
      "metadata": {
        "id": "BwkzKo9ccSYy"
      },
      "execution_count": null,
      "outputs": []
    },
    {
      "cell_type": "markdown",
      "source": [
        "You have completed the \"Groupby/Aggregrates\" Practice Assignment.\n",
        "\n",
        "Stop here.\n",
        "\n",
        "Save and submit this notebook now.\n",
        "\n",
        "Continue working through the lessons.\n",
        "\n",
        "You have completed the practice assignments for this notebook!"
      ],
      "metadata": {
        "id": "kOnWewUjcYNf"
      }
    }
  ]
}