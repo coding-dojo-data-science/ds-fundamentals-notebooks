{
  "nbformat": 4,
  "nbformat_minor": 0,
  "metadata": {
    "colab": {
      "provenance": [],
      "include_colab_link": true
    },
    "kernelspec": {
      "name": "python3",
      "display_name": "Python 3"
    },
    "language_info": {
      "name": "python"
    }
  },
  "cells": [
    {
      "cell_type": "markdown",
      "metadata": {
        "id": "view-in-github",
        "colab_type": "text"
      },
      "source": [
        "<a href=\"https://colab.research.google.com/github/coding-dojo-data-science/ds-fundamentals-notebooks/blob/main/Data_Cleaning_Core_Starter_Notebook.ipynb\" target=\"_parent\"><img src=\"https://colab.research.google.com/assets/colab-badge.svg\" alt=\"Open In Colab\"/></a>"
      ]
    },
    {
      "cell_type": "markdown",
      "source": [
        "# Data Cleaning Core [Starter Notebook]\n",
        "\n"
      ],
      "metadata": {
        "id": "OO_lHblPMbz5"
      }
    },
    {
      "cell_type": "markdown",
      "source": [
        "- Student Name: "
      ],
      "metadata": {
        "id": "vN3u6cWVFYUC"
      }
    },
    {
      "cell_type": "markdown",
      "source": [
        "## The Data"
      ],
      "metadata": {
        "id": "juh5JMRRHLe_"
      }
    },
    {
      "cell_type": "markdown",
      "source": [
        "You will be working with a modified version of the Titanitc dataset:\n",
        "\n",
        "- [(Modified) Titanic Data](https://drive.google.com/file/d/1Uw7RzQMYSARCFnzJQqqNlZpUouXr16-8/view?usp=sharing)\n",
        "\n",
        "- [Data Dictionary](https://docs.google.com/document/d/1uEeANvKURYmu-HUDGzbGlMmvAUwooatUg-gHUCDMh-Y/edit?usp=sharing)\n",
        "\n",
        "___\n",
        "\n",
        "- Save the files to your Course 1 > Week 2 > Data Folder.\n"
      ],
      "metadata": {
        "id": "WjZIviC2A_eM"
      }
    },
    {
      "cell_type": "markdown",
      "source": [
        "## A) Load and Preview Data"
      ],
      "metadata": {
        "id": "CTVmUXVnoGp0"
      }
    },
    {
      "cell_type": "markdown",
      "source": [
        "\n",
        "- Mount google drive and navigate to the file on the Files sidebar.\n"
      ],
      "metadata": {
        "id": "_r1kaxkquGFU"
      }
    },
    {
      "cell_type": "code",
      "source": [
        "# Mount google drive\n"
      ],
      "metadata": {
        "id": "mtAndE63WYJp"
      },
      "execution_count": null,
      "outputs": []
    },
    {
      "cell_type": "markdown",
      "source": [
        "\n",
        "- Navigate to the file on the Files side bar and copy the path\n",
        "- Paste it below and save it as a variable called \"fpath\""
      ],
      "metadata": {
        "id": "OrukOB_cuHfG"
      }
    },
    {
      "cell_type": "code",
      "execution_count": null,
      "metadata": {
        "id": "mU3JiRzBMS_j"
      },
      "outputs": [],
      "source": [
        "# Import required packages\n",
        "\n",
        "\n",
        "# Save the filepath and load the data as \"df_titanic\"\n",
        "\n",
        "\n"
      ]
    },
    {
      "cell_type": "code",
      "source": [
        "# Display the first 5 rows\n"
      ],
      "metadata": {
        "id": "alCcMYM_3FUJ"
      },
      "execution_count": null,
      "outputs": []
    },
    {
      "cell_type": "code",
      "source": [
        "# Display the last 5 rows\n"
      ],
      "metadata": {
        "id": "-gT5FZQjOwvB"
      },
      "execution_count": null,
      "outputs": []
    },
    {
      "cell_type": "markdown",
      "source": [
        "- Display summary information (including dtypes, number of rows, number of columns).\n"
      ],
      "metadata": {
        "id": "tOL6ujJ4OS3r"
      }
    },
    {
      "cell_type": "code",
      "source": [
        "# Display the info for the dataframe\n"
      ],
      "metadata": {
        "id": "DEGSDXiZPAJX"
      },
      "execution_count": null,
      "outputs": []
    },
    {
      "cell_type": "markdown",
      "source": [
        "**Scan the .info() to answer the following questions about the data:**\n",
        "\n",
        ">Add your answers in this Markdown cell, right below each question:\n",
        "\n",
        "**Q: A1) How many rows are there?**\n",
        "- Your Answer: \n",
        "  - `...`\n",
        "\n",
        "**Q: A2) How many columns are there?**\n",
        "- Your Answer:\n",
        "  - `...`\n"
      ],
      "metadata": {
        "id": "cUSQkg9hRTA2"
      }
    },
    {
      "cell_type": "markdown",
      "source": [
        "\n",
        "\n",
        "**Q: A3)How many numeric columns?**\n",
        "- Your Answer:\n",
        "  - `...`\n",
        "\n",
        "**Q: A4) How many categorical/string columns are there (dtype='object')?**\n",
        "- Your Answer:\n",
        "  - `...`"
      ],
      "metadata": {
        "id": "fQVpRuxM3t69"
      }
    },
    {
      "cell_type": "markdown",
      "source": [
        "## B) Check Data Types and Convert (if required)\n"
      ],
      "metadata": {
        "id": "t4VzfV4gitk5"
      }
    },
    {
      "cell_type": "markdown",
      "source": [
        "> Notice there are several columns with \"object\" datatype. \n",
        "\n",
        "- **Use select_dtypes to view only the object columns** \n"
      ],
      "metadata": {
        "id": "JGAppZRvaDeT"
      }
    },
    {
      "cell_type": "code",
      "source": [
        "# Use .select_dtypes to view only object columns\n"
      ],
      "metadata": {
        "id": "o3jRzSXzcpXR"
      },
      "execution_count": null,
      "outputs": []
    },
    {
      "cell_type": "markdown",
      "source": [
        "- Inspect the values in each column to confirm if they should be converted to numeric dtypes and answer the following questions:\n"
      ],
      "metadata": {
        "id": "o83V70CV4MRf"
      }
    },
    {
      "cell_type": "markdown",
      "source": [
        "\n",
        "\n",
        "**Q: B1) Which columns should be converted to a numeric dtype?**  (Hint: there are 2 columns that need to be converted)\n",
        "- **Your Answer:**\n",
        "  - `...`\n",
        "  - `...`\n",
        "    \n",
        "\n",
        "\n"
      ],
      "metadata": {
        "id": "gdPhHusjebwy"
      }
    },
    {
      "cell_type": "markdown",
      "source": [
        "### Convert Dtypes"
      ],
      "metadata": {
        "id": "5qU24C-ihnQf"
      }
    },
    {
      "cell_type": "markdown",
      "source": [
        "#### Convert Fare"
      ],
      "metadata": {
        "id": "_H10qEVR5epj"
      }
    },
    {
      "cell_type": "code",
      "source": [
        "# Inspect the Fare column's value counts\n"
      ],
      "metadata": {
        "id": "3Zg54AwUjmRi"
      },
      "execution_count": null,
      "outputs": []
    },
    {
      "cell_type": "markdown",
      "source": [
        "\n",
        "\n",
        ">In a Markdown cell below your displayed info, answer the following questions:\n",
        "\n",
        "**Q: B2)  Do you see any values that are string characters that need to be replaced?**\n",
        "- Your Answer:\n",
        "  - `...`\n",
        "\n",
        "**Q: B3) If so, do you need to replace a single part of a string (`df[col].str.replace`) or an entire value (`df[col].replace`)?**\n",
        "- Your Answer:\n",
        "  - `...`"
      ],
      "metadata": {
        "id": "YI4YFIdT4vc3"
      }
    },
    {
      "cell_type": "markdown",
      "source": [
        "**Perform the necessary steps to convert to numeric dtype:**\n",
        "\n",
        "- 1) Replace/remove the non-numeric values. "
      ],
      "metadata": {
        "id": "vk5cvcFQ5DAO"
      }
    },
    {
      "cell_type": "code",
      "source": [
        "# Remove  the \"$\" from fare column by replacing it with nothing\n",
        "\n",
        "# Check the .value_counts to confirm the change\n"
      ],
      "metadata": {
        "id": "lsxVIzhkcYxM"
      },
      "execution_count": null,
      "outputs": []
    },
    {
      "cell_type": "markdown",
      "source": [
        "\n",
        "- 2) Convert the column to a float dtype."
      ],
      "metadata": {
        "id": "MklbU8IL5I3N"
      }
    },
    {
      "cell_type": "code",
      "source": [
        "# Change the datatype of Fare column to float\n",
        "\n",
        "# Confirm the datatype\n"
      ],
      "metadata": {
        "id": "zFqIHDCfjr-6"
      },
      "execution_count": null,
      "outputs": []
    },
    {
      "cell_type": "markdown",
      "source": [
        "#### Convert SibSp"
      ],
      "metadata": {
        "id": "RXLzjUPh5pDG"
      }
    },
    {
      "cell_type": "code",
      "source": [
        "# Inspect the Sibsp column's value counts\n"
      ],
      "metadata": {
        "id": "RYgkzF9G8NCU"
      },
      "execution_count": null,
      "outputs": []
    },
    {
      "cell_type": "markdown",
      "source": [
        ">In a Markdown cell below your displayed info, answer the following questions:\n",
        " \n",
        "**Q: B3)  Do you see any values that are string characters that need to be replaced?**\n",
        "- Your Answer:\n",
        "  - `...`\n",
        "\n",
        "**Q: B4) If so, do you need to replace a single part of a string (`df[col].str.replace`) or an entire value (`df[col].replace`)?**\n",
        "- Your Answer:\n",
        "  - `...`"
      ],
      "metadata": {
        "id": "lgk9SrtT5z_i"
      }
    },
    {
      "cell_type": "markdown",
      "source": [
        "**Perform the necessary steps to convert to numeric dtype:**\n",
        "\n",
        "- 1) Replace/remove the non-numeric values. "
      ],
      "metadata": {
        "id": "3CpEwTet5z_i"
      }
    },
    {
      "cell_type": "code",
      "source": [
        "# There are 3 values of \"one\" which should be replaced with \"1\"\n",
        "\n",
        "# Display the value counts again to confirm the change\n"
      ],
      "metadata": {
        "id": "MjtCtcwHDbXn"
      },
      "execution_count": null,
      "outputs": []
    },
    {
      "cell_type": "markdown",
      "source": [
        "\n",
        "- 2) Convert the column to a float dtype."
      ],
      "metadata": {
        "id": "ZgUDCoEN6PF3"
      }
    },
    {
      "cell_type": "code",
      "source": [
        "# Convert the SibSp column to integer dtype\n",
        "\n",
        "# Confirm the datatype\n"
      ],
      "metadata": {
        "id": "n7Eav1piERbn"
      },
      "execution_count": null,
      "outputs": []
    },
    {
      "cell_type": "markdown",
      "source": [
        "## C) Drop Unwanted Columns "
      ],
      "metadata": {
        "id": "2WJJo4vOjH6x"
      }
    },
    {
      "cell_type": "markdown",
      "source": [
        "- Drop the 'Unnamed: 0' column because it is an error"
      ],
      "metadata": {
        "id": "V_8w1txa7ujq"
      }
    },
    {
      "cell_type": "code",
      "source": [
        "# Drop the Unnamed: 0 column\n",
        "\n",
        "\n",
        "# Display the .head to confirm the change\n"
      ],
      "metadata": {
        "id": "LEe3645pcur8"
      },
      "execution_count": null,
      "outputs": []
    },
    {
      "cell_type": "markdown",
      "source": [
        "## D) Rename Columns \n",
        "(that have Confusing/Abbreviated Column Names)"
      ],
      "metadata": {
        "id": "EXeneBJmkrAY"
      }
    },
    {
      "cell_type": "markdown",
      "source": [
        "In the cell below:\n",
        "- Rename the SibSp column as \"Siblings or Spouses\"\n",
        "- Rename the Parch as \"Parents or Children\""
      ],
      "metadata": {
        "id": "cs4FEKt-ZcH9"
      }
    },
    {
      "cell_type": "code",
      "source": [
        "# Create a dictionary called rename_dict \n",
        "# with current column names as keys\n",
        "# and new replacement names as the values. \n"
      ],
      "metadata": {
        "id": "lqj9wSk_k3ir"
      },
      "execution_count": null,
      "outputs": []
    },
    {
      "cell_type": "code",
      "source": [
        "# Use the rename_dict to change the column names in the dataframe\n",
        "\n",
        "# Check the .head() to confirm the nams changed.\n"
      ],
      "metadata": {
        "id": "dg0nDjFnlBuc"
      },
      "execution_count": null,
      "outputs": []
    },
    {
      "cell_type": "markdown",
      "source": [
        "## E) Duplicate Rows"
      ],
      "metadata": {
        "id": "ZaBNjMzRo2cC"
      }
    },
    {
      "cell_type": "markdown",
      "source": [
        "### Identifying Duplicates"
      ],
      "metadata": {
        "id": "Acd0kjkTk5Ze"
      }
    },
    {
      "cell_type": "markdown",
      "source": [
        "\n",
        "- Use `df.duplicated` to identify if there are any duplicate rows in the data.\n"
      ],
      "metadata": {
        "id": "TovjTuK97H1n"
      }
    },
    {
      "cell_type": "code",
      "source": [
        "# Save a filter called \"duplicated_rows\" that identifies duplicated rows\n",
        "\n",
        "\n",
        "# Get the sum of duplicated_rows filter to see the number of duplicate rows\n"
      ],
      "metadata": {
        "id": "ND4i3S6wo2Ge"
      },
      "execution_count": null,
      "outputs": []
    },
    {
      "cell_type": "markdown",
      "source": [
        "\n",
        "**Q: E1) How many duplicate rows are in the data?**\n",
        "- Your Answer:\n",
        "  - `...`"
      ],
      "metadata": {
        "id": "9pnXXJ3wCLXL"
      }
    },
    {
      "cell_type": "markdown",
      "source": [
        "  \n",
        "- Visualize all copies of the duplicate rows using df.duplicated(keep=False). \n",
        "  - Sort the rows by the PassengerID column to view duplicate rows together. "
      ],
      "metadata": {
        "id": "0urshZJz7I0A"
      }
    },
    {
      "cell_type": "code",
      "source": [
        "# Save a new filter called \"duplicated_rows_all\" that identifies ALL\n",
        "# of the duplicated rows (including the first). Hint: use the \"keep\" argument.\n",
        "\n",
        "\n",
        "# Calculate the sum of the duplicated_rows_all filter\n"
      ],
      "metadata": {
        "id": "g0H7EGf219mK"
      },
      "execution_count": null,
      "outputs": []
    },
    {
      "cell_type": "code",
      "source": [
        "# View all duplicated rows using your duplicated_rows_all filter\n",
        "# Sort by PassengerId\n"
      ],
      "metadata": {
        "id": "M8uqlb9SpWGV"
      },
      "execution_count": null,
      "outputs": []
    },
    {
      "cell_type": "code",
      "source": [
        "# Drop duplicates (but keep the first!)\n",
        "\n",
        "# Obtain the sum of duplicated to confirm all have been dropped\n"
      ],
      "metadata": {
        "id": "Hu7Q0QBBrZ6-"
      },
      "execution_count": null,
      "outputs": []
    },
    {
      "cell_type": "markdown",
      "source": [
        "## F) Unique Identifiers\n",
        "- Find and Drop Columns with Unique Values for Every Row."
      ],
      "metadata": {
        "id": "-sRW92--vM9d"
      }
    },
    {
      "cell_type": "code",
      "source": [
        "# Use .nunqiue() to get # of unique values for each column and save as a variable.\n"
      ],
      "metadata": {
        "id": "tckYwylSrnfv"
      },
      "execution_count": null,
      "outputs": []
    },
    {
      "cell_type": "code",
      "source": [
        "# Use the result to determine if any of the columns have 100% unique values.\n"
      ],
      "metadata": {
        "id": "T8AYpVW_sLwi"
      },
      "execution_count": null,
      "outputs": []
    },
    {
      "cell_type": "markdown",
      "source": [
        "**Q: F1) Which 2 features have 100% unique values in every row?**\n",
        "- Your Answer: \n",
        "  - Column 1: `...`\n",
        "  - Column 2: `...`\n",
        "\n"
      ],
      "metadata": {
        "id": "dY46t6uLwkLK"
      }
    },
    {
      "cell_type": "markdown",
      "source": [
        "\n",
        ">Generally, a column that is NOT the index, and has a unique value for each row will not be helpful for analysis and should be dropped from the data.\n",
        "\n",
        "- Inspect the two columns with 100% unique values:\n"
      ],
      "metadata": {
        "id": "AjlG5kS5wloA"
      }
    },
    {
      "cell_type": "code",
      "source": [
        "# Slice the two columns with 100% unique values to view\n"
      ],
      "metadata": {
        "id": "e3ufz9Ja8E-A"
      },
      "execution_count": null,
      "outputs": []
    },
    {
      "cell_type": "markdown",
      "source": [
        "\n",
        "- **Of the two columns with 100% unique values:**\n",
        "  - Set the numeric column as the DataFrame's index.\n",
        "  - Drop the string column from the DataFrame.\n"
      ],
      "metadata": {
        "id": "UJKNjv2s8C4-"
      }
    },
    {
      "cell_type": "code",
      "source": [
        "# Set the numeric column as the DataFrame's index.\n"
      ],
      "metadata": {
        "id": "o9CdeowaPKBr"
      },
      "execution_count": null,
      "outputs": []
    },
    {
      "cell_type": "code",
      "source": [
        "# Drop the string column from the DataFrame.\n"
      ],
      "metadata": {
        "id": "qWFEp-0mIJPS"
      },
      "execution_count": null,
      "outputs": []
    },
    {
      "cell_type": "markdown",
      "source": [
        "___"
      ],
      "metadata": {
        "id": "nJhExoQOngnU"
      }
    },
    {
      "cell_type": "markdown",
      "source": [
        "## G) Missing Values"
      ],
      "metadata": {
        "id": "ALkAT9sjg4Ki"
      }
    },
    {
      "cell_type": "code",
      "source": [
        "# Get the number of null values for all columns and save as a variable\n"
      ],
      "metadata": {
        "id": "U-4SuxM_8zpR"
      },
      "execution_count": null,
      "outputs": []
    },
    {
      "cell_type": "code",
      "source": [
        "# Use this result to calculate the percentage of null values for each column.\n"
      ],
      "metadata": {
        "id": "qiuyojKC9CSj"
      },
      "execution_count": null,
      "outputs": []
    },
    {
      "cell_type": "code",
      "source": [
        "# Visualize the missing values using the missingno package's matrix plot.\n"
      ],
      "metadata": {
        "id": "HnosP_kkg8pZ"
      },
      "execution_count": null,
      "outputs": []
    },
    {
      "cell_type": "markdown",
      "source": [
        "#### Address the null values:\n",
        "\n",
        "- Fill the null values in categorical columns with a placeholder category called MISSING.\n"
      ],
      "metadata": {
        "id": "fOFhPHaP9uEI"
      }
    },
    {
      "cell_type": "code",
      "source": [
        "# save list of categorical column name. (Hint: select_dtypes)\n"
      ],
      "metadata": {
        "id": "wHMxb7Dn9t5M"
      },
      "execution_count": null,
      "outputs": []
    },
    {
      "cell_type": "code",
      "source": [
        "# use the list of cat columns to fill null values with MISSING\n"
      ],
      "metadata": {
        "id": "9KPnBQXo985l"
      },
      "execution_count": null,
      "outputs": []
    },
    {
      "cell_type": "markdown",
      "source": [
        "\n",
        "- Fill the null values in numeric columns with a placeholder value of -1\n",
        "\n"
      ],
      "metadata": {
        "id": "14JJ4da790lP"
      }
    },
    {
      "cell_type": "code",
      "source": [
        "# save list of numeric column names (Hint: select_dtypes)\n"
      ],
      "metadata": {
        "id": "ke8Ykwqk-FpT"
      },
      "execution_count": null,
      "outputs": []
    },
    {
      "cell_type": "code",
      "source": [
        "# use the list of num columns to fill null values with -1\n"
      ],
      "metadata": {
        "id": "eEML0ii--JqR"
      },
      "execution_count": null,
      "outputs": []
    },
    {
      "cell_type": "markdown",
      "source": [
        "- Use either missingno's matrix plot or Pandas to confirm that there are 0 null values remaining.\n"
      ],
      "metadata": {
        "id": "e9-VpWlI-P9U"
      }
    },
    {
      "cell_type": "code",
      "source": [
        "# Confirm no more nulls using Pandas\n"
      ],
      "metadata": {
        "id": "XHFu09ww-TUB"
      },
      "execution_count": null,
      "outputs": []
    },
    {
      "cell_type": "code",
      "source": [
        "# Confirm no more nulls using using missingno\n"
      ],
      "metadata": {
        "id": "p99EtFE1-Qi5"
      },
      "execution_count": null,
      "outputs": []
    },
    {
      "cell_type": "markdown",
      "source": [
        "## H) Consistent Values"
      ],
      "metadata": {
        "id": "P4Q29-E1sinl"
      }
    },
    {
      "cell_type": "markdown",
      "source": [
        "- Check each string column's value counts for inconsistent values. \n",
        "  - E.g. \"Cat\" vs \"cat\", \"Y\" vs. \"Yes\"\n"
      ],
      "metadata": {
        "id": "nGwnkZUp_EkH"
      }
    },
    {
      "cell_type": "markdown",
      "source": [
        "\n",
        "- Fix/replace the inconsistent values with the values you believe are correct.\n",
        "\n",
        "\n",
        "- Display the value_counts again to confirm the values are now consistent.\n",
        "  "
      ],
      "metadata": {
        "id": "u6BgPQTMCRJU"
      }
    },
    {
      "cell_type": "code",
      "source": [
        "# Save a list of object columns (Hint: select_dtypes)\n"
      ],
      "metadata": {
        "id": "ldZvXpS4sk_R"
      },
      "execution_count": null,
      "outputs": []
    },
    {
      "cell_type": "code",
      "source": [
        "# Check the nunique for just the object cols \n"
      ],
      "metadata": {
        "id": "LTsmcfwPBBkE"
      },
      "execution_count": null,
      "outputs": []
    },
    {
      "cell_type": "markdown",
      "source": [
        "- Note that out of the 4 categorical columns remaining:\n",
        "  - 2 columns have a small number of categories  (Sex and Embarked)\n",
        "  - 2 columns have over 100 categories (Ticket and Cabin).\n",
        "\n",
        "- We do not want to keep categorical features with so many categories. \n",
        "\n",
        "\n",
        "- **Drop the Ticket column and Cabin column.**"
      ],
      "metadata": {
        "id": "7uYkMA3wBR_c"
      }
    },
    {
      "cell_type": "code",
      "source": [
        "# Drop the columns listed above\n"
      ],
      "metadata": {
        "id": "rdJrpA81CA9x"
      },
      "execution_count": null,
      "outputs": []
    },
    {
      "cell_type": "markdown",
      "source": [
        "### For Each Remaining Categorical Column:\n",
        "\n",
        "- Display the value counts for the column\n",
        "- Take a note of any values that are not consistent.\n",
        "- Remove/fix the inconsistent values \n",
        "- Confirm by checking the value counts again"
      ],
      "metadata": {
        "id": "XYPnIB_bCKPH"
      }
    },
    {
      "cell_type": "code",
      "source": [
        "# Remake the list of string columns (after dropping previous cols)\n",
        "\n",
        "# loop through the list of string columns\n",
        "\n",
        "  # print the value counts for the column\n",
        "\n",
        "  # Print an empty line for readability\n",
        "  "
      ],
      "metadata": {
        "id": "7zcVvQC0_Mp_"
      },
      "execution_count": null,
      "outputs": []
    },
    {
      "cell_type": "markdown",
      "source": [
        "**Q: H1) Which columns have inconsistent values that need to be addressed?**\n",
        "- Your Answer:\n",
        "  - `...`\n",
        "  - `...`"
      ],
      "metadata": {
        "id": "8nihiReBDuF8"
      }
    },
    {
      "cell_type": "markdown",
      "source": [
        "### Checking & Fixing Consistency: Column 1"
      ],
      "metadata": {
        "id": "W4Ql95JPCwTc"
      }
    },
    {
      "cell_type": "code",
      "source": [
        "# Check for inconsistencies by inspecting the value_counts for Embarked\n"
      ],
      "metadata": {
        "id": "61tBYCkPwb5_"
      },
      "execution_count": null,
      "outputs": []
    },
    {
      "cell_type": "code",
      "source": [
        "# Replace Queenstown with Q\n",
        "\n",
        "# Check the value counts again to confirm\n"
      ],
      "metadata": {
        "id": "BJehF4pK5HOi"
      },
      "execution_count": null,
      "outputs": []
    },
    {
      "cell_type": "markdown",
      "source": [
        "### Checking and Fixing Consistency: Column 2"
      ],
      "metadata": {
        "id": "Pb__EAJ3C3ir"
      }
    },
    {
      "cell_type": "code",
      "source": [
        "# # Check for inconsistencies by inspecting the values_counts for Sex\n"
      ],
      "metadata": {
        "id": "lSqM-GyPs4BR"
      },
      "execution_count": null,
      "outputs": []
    },
    {
      "cell_type": "code",
      "source": [
        "# Replace have 4 values listed as \"F\" with \"female\"\n",
        "\n",
        "\n",
        "# Check the value counts again to confirm\n"
      ],
      "metadata": {
        "id": "CyH6LiU9wYOR"
      },
      "execution_count": null,
      "outputs": []
    },
    {
      "cell_type": "markdown",
      "source": [
        "## I) Save the Final DataFrame to Csv"
      ],
      "metadata": {
        "id": "pp4pJayZAJjv"
      }
    },
    {
      "cell_type": "markdown",
      "source": [
        "- Save the cleaned DataFrame to your Google Drive in the CodingDojo>  01-Fundamentals> Week02>Data folder. \n",
        "  - Name the file \"data-cleaning-core.csv\"\n"
      ],
      "metadata": {
        "id": "yYQEFYlcAL2K"
      }
    },
    {
      "cell_type": "code",
      "source": [
        "# Save the folder + filename as a variable called fpath\n",
        "\n",
        "\n",
        "# Use to_csv to save the dataframe using the filename \n"
      ],
      "metadata": {
        "id": "DmeXHDo6AQLp"
      },
      "execution_count": null,
      "outputs": []
    },
    {
      "cell_type": "markdown",
      "source": [
        "- Confirm the data was saved correctly."
      ],
      "metadata": {
        "id": "FScEO0F0Amwh"
      }
    },
    {
      "cell_type": "code",
      "source": [
        "# Read in your new .csv file with Pandas.\n",
        "\n",
        "# Display the info summary. \n",
        "\n",
        "# Display the first 5 rows.\n"
      ],
      "metadata": {
        "id": "YmxIv8rBApEW"
      },
      "execution_count": null,
      "outputs": []
    },
    {
      "cell_type": "markdown",
      "source": [
        "### Save and Submit your work\n",
        "\n",
        "When the assignment is complete, download your notebook as a .ipynb file and submit it on the learning platform.  "
      ],
      "metadata": {
        "id": "KTxksnlTBQgE"
      }
    }
  ]
}