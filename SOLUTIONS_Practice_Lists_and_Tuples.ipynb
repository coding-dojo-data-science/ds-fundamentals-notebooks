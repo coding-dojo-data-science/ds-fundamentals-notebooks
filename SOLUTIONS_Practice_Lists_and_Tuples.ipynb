{
  "nbformat": 4,
  "nbformat_minor": 0,
  "metadata": {
    "colab": {
      "provenance": [],
      "include_colab_link": true
    },
    "kernelspec": {
      "name": "python3",
      "display_name": "Python 3"
    },
    "language_info": {
      "name": "python"
    }
  },
  "cells": [
    {
      "cell_type": "markdown",
      "metadata": {
        "id": "view-in-github",
        "colab_type": "text"
      },
      "source": [
        "<a href=\"https://colab.research.google.com/github/coding-dojo-data-science/ds-fundamentals-notebooks/blob/main/SOLUTIONS_Practice_Lists_and_Tuples.ipynb\" target=\"_parent\"><img src=\"https://colab.research.google.com/assets/colab-badge.svg\" alt=\"Open In Colab\"/></a>"
      ]
    },
    {
      "cell_type": "markdown",
      "source": [
        "# Indexing and Slicing"
      ],
      "metadata": {
        "id": "eyLJH2OFOtxy"
      }
    },
    {
      "cell_type": "markdown",
      "source": [
        "In this notebook you will see examples of indexing into lists and tuples.\n"
      ],
      "metadata": {
        "id": "zPAul2iiPAEL"
      }
    },
    {
      "cell_type": "markdown",
      "source": [
        "# Indexing\n",
        "\n",
        "## Turtle Racing\n",
        "\n",
        "Longville, MN holds turtle races each summer.  Prizes are given out for the fastest and slowest turtles.\n"
      ],
      "metadata": {
        "id": "vmBZ_iwwSVk5"
      }
    },
    {
      "cell_type": "markdown",
      "source": [
        "##1. Create a list\n",
        "Let's make a list of turtles in the order that they crossed the finish line. Remember, lists are surrounded by square brackets [ ]. "
      ],
      "metadata": {
        "id": "qDWKi2akmXMC"
      }
    },
    {
      "cell_type": "code",
      "source": [
        "# Make a list of the first turtles to finish\n",
        "# Run this code without making any changes\n",
        "race_finishers = ['Speedy', 'Sparkles', 'Little Foot', 'Spike', 'Greg the Destroyer']"
      ],
      "metadata": {
        "id": "MrOFfEu7fdJ8"
      },
      "execution_count": 1,
      "outputs": []
    },
    {
      "cell_type": "code",
      "source": [
        "# print the list\n",
        "print(race_finishers)"
      ],
      "metadata": {
        "colab": {
          "base_uri": "https://localhost:8080/"
        },
        "id": "f70T3EFNf89v",
        "outputId": "738ef1ba-2d44-4403-f06b-69b4ecd2b39d"
      },
      "execution_count": 2,
      "outputs": [
        {
          "output_type": "stream",
          "name": "stdout",
          "text": [
            "['Speedy', 'Sparkles', 'Little Foot', 'Spike', 'Greg the Destroyer']\n"
          ]
        }
      ]
    },
    {
      "cell_type": "markdown",
      "source": [
        "##2. Append an item to a list\n",
        "Finally! The final turtle named Slowpoke just finished so add them to the list using .append()\n"
      ],
      "metadata": {
        "id": "pduxD3-JgE7e"
      }
    },
    {
      "cell_type": "code",
      "source": [
        "# Append 'Slowpoke' to the list\n",
        "race_finishers.append('Slowpoke')\n"
      ],
      "metadata": {
        "id": "vWuWd4w_gEE8"
      },
      "execution_count": 3,
      "outputs": []
    },
    {
      "cell_type": "markdown",
      "source": [
        "##3. Use indexing with a list\n",
        "\n",
        "\n",
        "Indices in Python start counting from 0.  In the following cell, use list indexing to print the first place winner of the race.  The owner of that turtle will get a coupon for a free ice cream cone!\n",
        "\n",
        "Remember that you can index into a collection using brackets, like `collection[3]`.  Use this syntax to print the first racer in the `race_finishers` list."
      ],
      "metadata": {
        "id": "fYXNbbgIXK4I"
      }
    },
    {
      "cell_type": "markdown",
      "source": [
        "| Index           |   0    |    1     |     2       |   3   |         4          |    5     |\n",
        "|-----------------|--------|----------|-------------|-------|--------------------|----------|\n",
        "| race_winners =  | Speedy | Sparkles | Little Foot | Spike | Greg the Destroyer | Slowpoke |\n",
        "| Negative Index  |    -6    |    -5     |     -4       |    -3   |       -2          |     -1     |"
      ],
      "metadata": {
        "id": "mYd1qAVYAFV0"
      }
    },
    {
      "cell_type": "code",
      "source": [
        "# Print the first place finisher at index position 0\n",
        "print(race_finishers[0])"
      ],
      "metadata": {
        "id": "BwbiUhpeW-_m",
        "colab": {
          "base_uri": "https://localhost:8080/"
        },
        "outputId": "2e513f3e-06f3-4780-b0a6-69bb48454e5c"
      },
      "execution_count": 4,
      "outputs": [
        {
          "output_type": "stream",
          "name": "stdout",
          "text": [
            "Speedy\n"
          ]
        }
      ]
    },
    {
      "cell_type": "markdown",
      "source": [
        "## 4. Use negative indexing with a list\n",
        "\n",
        "The owner of the slowest turtle will get a coupon for a free chocolate bar!  Remember that negative index numbers count backward from the end of the list. `collection[-3]` would return the 3rd from the last item from a collection.\n",
        "\n",
        "* Use negative indexing to print the last place racer in the `race_finishers` list.  "
      ],
      "metadata": {
        "id": "vKxzHXKgXcwa"
      }
    },
    {
      "cell_type": "code",
      "source": [
        "# Print the last place finisher at index position -1\n",
        "print(race_finishers[-1])"
      ],
      "metadata": {
        "id": "Q55nDWS-XGI3",
        "colab": {
          "base_uri": "https://localhost:8080/"
        },
        "outputId": "532a416c-664e-4071-b11f-6c59ebb63b4d"
      },
      "execution_count": 5,
      "outputs": [
        {
          "output_type": "stream",
          "name": "stdout",
          "text": [
            "Slowpoke\n"
          ]
        }
      ]
    },
    {
      "cell_type": "markdown",
      "source": [
        "## 5. Edit an item in a list\n",
        "\n",
        "We just found out that we got the name of the second place turtle wrong.  We wrote 'Sparkles' when it's name is actually 'Sparkly'  We can use indexing to change the second value in a list because lists are both ordered and mutable.  Remember the second value is race_finishers[1]"
      ],
      "metadata": {
        "id": "tNXGnzlln5ms"
      }
    },
    {
      "cell_type": "code",
      "source": [
        "# Change the name at index 2 to 'Sparkly'\n",
        "race_finishers[1] = 'Sparkly'\n",
        "\n",
        "# Print the updated list\n",
        "print(race_finishers)"
      ],
      "metadata": {
        "id": "vJ5pc8yboQXy",
        "colab": {
          "base_uri": "https://localhost:8080/"
        },
        "outputId": "9665c359-808c-489e-e290-bd596f66bed9"
      },
      "execution_count": 7,
      "outputs": [
        {
          "output_type": "stream",
          "name": "stdout",
          "text": [
            "['Speedy', 'Sparkly', 'Little Foot', 'Spike', 'Greg the Destroyer', 'Slowpoke']\n"
          ]
        }
      ]
    },
    {
      "cell_type": "markdown",
      "source": [
        "##6. Remove an item from a list\n",
        "Oh no, it turns out Little Foot was disqaulified.  Use .remove() to remove him from the list."
      ],
      "metadata": {
        "id": "9hfl06OahviT"
      }
    },
    {
      "cell_type": "code",
      "source": [
        "# Remove Little Foot from the list\n",
        "race_finishers.remove('Little Foot')\n",
        "\n",
        "# Print the updated list\n",
        "print(race_finishers)"
      ],
      "metadata": {
        "colab": {
          "base_uri": "https://localhost:8080/"
        },
        "id": "LrXVYgvmhnrg",
        "outputId": "4115a05a-dd5b-4c77-c695-20178d96e704"
      },
      "execution_count": 8,
      "outputs": [
        {
          "output_type": "stream",
          "name": "stdout",
          "text": [
            "['Speedy', 'Sparkly', 'Spike', 'Greg the Destroyer', 'Slowpoke']\n"
          ]
        }
      ]
    },
    {
      "cell_type": "markdown",
      "source": [
        "# Slicing"
      ],
      "metadata": {
        "id": "FRo3qcAlcI4v"
      }
    },
    {
      "cell_type": "markdown",
      "source": [
        "## Costume Shop Resupply\n",
        "\n",
        "A costume shop is ordering merchandise to replenish their stock.  Some items sell out very quickly and others are not as popular.  The shop keep track of how many of each item sells and makes tuple of items in order of most popular to least popular.\n",
        "\n"
      ],
      "metadata": {
        "id": "ltbPs3qRlLdL"
      }
    },
    {
      "cell_type": "markdown",
      "source": [
        "## 7. Create a Tuple\n",
        "\n",
        "Remember tuples are surrounded by parenthesis. ()"
      ],
      "metadata": {
        "id": "OACRkwy7nqOK"
      }
    },
    {
      "cell_type": "code",
      "source": [
        "# Create a tuple of costume merchandise\n",
        "# Run this code cell without making any changes\n",
        "merchandise = ('Fangs', 'Tutus', 'Clown Noses', 'Scrubs', 'Cowboy Hats', 'Face Paint', 'Plastic Swords')"
      ],
      "metadata": {
        "id": "cG5zzDadbxLW"
      },
      "execution_count": 20,
      "outputs": []
    },
    {
      "cell_type": "markdown",
      "source": [
        "| Index          |   0   |    1  |     2       |   3    |         4   |    5       | 6              |\n",
        "|----------------|-------|-------|-------------|--------|-------------|------------|----------------|\n",
        "| merchandise =  | Fangs | Tutus | Clown Noses | Scrubs | Cowboy Hats | Face Paint | Plastic Swords |\n",
        "| Negative Index | -7    |   -6  |    -5       | -4     | -3          | -2         | -1             |"
      ],
      "metadata": {
        "id": "pxIvijkBCjtE"
      }
    },
    {
      "cell_type": "markdown",
      "source": [
        "##8. Slicing from the start of a tuple\n",
        "\n",
        "The shop wants to order plenty of their top 3 best sellers to make sure they keep them in stock.\n",
        "\n",
        "Slice into the `merchandise` tuple to return the first 3 elements of the tuple.  Remember:\n",
        "1. If there is no value before the colon the slice will begin at the beginning of the tuple (or list).  For example [0:3] can also be written as [:3]\n",
        "2. A slice **excludes** the index position after the colon."
      ],
      "metadata": {
        "id": "ewWVDhvAnjKs"
      }
    },
    {
      "cell_type": "code",
      "source": [
        "# define a variable called top_3 that includes only the first 3 objects in the merchandise tuple\n",
        "top_3 = merchandise[0:3] \n",
        "\n",
        "# print top_3\n",
        "print(top_3)"
      ],
      "metadata": {
        "id": "yiod1kLwnhzc",
        "colab": {
          "base_uri": "https://localhost:8080/"
        },
        "outputId": "8ae2ab58-ac95-44b5-f283-35afad0e2b86"
      },
      "execution_count": 13,
      "outputs": [
        {
          "output_type": "stream",
          "name": "stdout",
          "text": [
            "('Fangs', 'Tutus', 'Clown Noses')\n"
          ]
        }
      ]
    },
    {
      "cell_type": "code",
      "source": [
        "top_3b = merchandise[:3]\n",
        "\n",
        "print(top_3b)"
      ],
      "metadata": {
        "colab": {
          "base_uri": "https://localhost:8080/"
        },
        "id": "L0MY-AcFkkHt",
        "outputId": "dc2be4e4-8786-4a06-fa79-493ef25b3eb3"
      },
      "execution_count": 14,
      "outputs": [
        {
          "output_type": "stream",
          "name": "stdout",
          "text": [
            "('Fangs', 'Tutus', 'Clown Noses')\n"
          ]
        }
      ]
    },
    {
      "cell_type": "markdown",
      "source": [
        "## 8. Slicing from the end of a tuple\n",
        "\n",
        "The shop wants to discontinue the two least popular items in the list.  \n",
        "\n",
        "* Slice into the `merchandise` tuple and return the last two elements.  Remember: \n",
        "  1. You can use negative indexing to count backward from the end of a collection\n",
        "  2. When you want to slice everything after a certain point in a collection, put the starting point before the colon and don't put anything after the colon."
      ],
      "metadata": {
        "id": "hEE2tRbho7lW"
      }
    },
    {
      "cell_type": "code",
      "source": [
        "# Define a variable called last_2 that inclues only the last two elements of the tuple.\n",
        "last_2 = merchandise[-2:]\n",
        "\n",
        "# Print last_2\n",
        "print(last_2)"
      ],
      "metadata": {
        "id": "Eu76Efzgos60",
        "colab": {
          "base_uri": "https://localhost:8080/"
        },
        "outputId": "b3d474eb-05eb-41cf-e427-0c5acbe3092f"
      },
      "execution_count": 17,
      "outputs": [
        {
          "output_type": "stream",
          "name": "stdout",
          "text": [
            "('Face Paint', 'Plastic Swords')\n"
          ]
        }
      ]
    },
    {
      "cell_type": "markdown",
      "source": [
        "##9. Slicing items from the middle of a tuple\n",
        "\n",
        ". Reminders:\n",
        "\n",
        "1. A slice **includes** the index before the colon.\n",
        "2. A slice **excludes** the index after the colon.\n",
        "3. Python indexing starts at 0, so the second item is at index 1."
      ],
      "metadata": {
        "id": "YdG4i71fqkdL"
      }
    },
    {
      "cell_type": "code",
      "source": [
        "# Slice out the 2nd and 3rd items from the tuple\n",
        "middle_items = merchandise[1:3]\n",
        "\n",
        "# Print the result\n",
        "print(middle_items)"
      ],
      "metadata": {
        "id": "AVJUOWndqHJT",
        "colab": {
          "base_uri": "https://localhost:8080/"
        },
        "outputId": "db449b7c-443c-4906-a31a-79805413ed98"
      },
      "execution_count": 19,
      "outputs": [
        {
          "output_type": "stream",
          "name": "stdout",
          "text": [
            "('Tutus', 'Clown Noses')\n"
          ]
        }
      ]
    },
    {
      "cell_type": "markdown",
      "source": [
        "## Reminder: Tuples are immutable\n",
        "\n",
        "Our supplier has changed 'Cowboy Hats' to 'Cowpoke Hats'.  Can we change this in our tuple?\n",
        "\n",
        "NO! Tuples are immutable meaning they cannot be changed or updated.\n"
      ],
      "metadata": {
        "id": "NRs5Kl0JreEz"
      }
    },
    {
      "cell_type": "markdown",
      "source": [
        "# Summary\n",
        "\n",
        "In this lesson you learned how to use positive and negative indices to retrieve, delete, and change elements in lists and tuples.  Python indices start counting at 0 and negative indices count from the end of the collection.  You can index into a collection by using square brackets `collection[index]` at the end of a collection.  \n",
        "\n",
        "You can slice multiple items from a list or tuple by adding a colon `collection[start:end]` to your index.  A slice includes the index to the left of the colon and excludes the index to the right of the column."
      ],
      "metadata": {
        "id": "APirEhWdsrtz"
      }
    }
  ]
}