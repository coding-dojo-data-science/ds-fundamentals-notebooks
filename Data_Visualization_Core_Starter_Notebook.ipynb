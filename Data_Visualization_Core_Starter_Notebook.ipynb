{
  "nbformat": 4,
  "nbformat_minor": 0,
  "metadata": {
    "colab": {
      "provenance": [],
      "toc_visible": true,
      "include_colab_link": true
    },
    "kernelspec": {
      "name": "python3",
      "display_name": "Python 3"
    },
    "language_info": {
      "name": "python"
    }
  },
  "cells": [
    {
      "cell_type": "markdown",
      "metadata": {
        "id": "view-in-github",
        "colab_type": "text"
      },
      "source": [
        "<a href=\"https://colab.research.google.com/github/coding-dojo-data-science/ds-fundamentals-notebooks/blob/main/Data_Visualization_Core_Starter_Notebook.ipynb\" target=\"_parent\"><img src=\"https://colab.research.google.com/assets/colab-badge.svg\" alt=\"Open In Colab\"/></a>"
      ]
    },
    {
      "cell_type": "markdown",
      "source": [
        "# Data Visualization Core [Starter Notebook]"
      ],
      "metadata": {
        "id": "CUqtRAjE8IVE"
      }
    },
    {
      "cell_type": "markdown",
      "source": [
        "- Student Name: "
      ],
      "metadata": {
        "id": "OnV5uZnrdAR0"
      }
    },
    {
      "cell_type": "markdown",
      "source": [
        "## Import Packages and Load Data"
      ],
      "metadata": {
        "id": "EITzaBcfrLmk"
      }
    },
    {
      "cell_type": "code",
      "source": [
        "# import the required packages \n"
      ],
      "metadata": {
        "id": "IjGYpFle8vaY"
      },
      "execution_count": null,
      "outputs": []
    },
    {
      "cell_type": "code",
      "source": [
        "# mount google drive\n"
      ],
      "metadata": {
        "id": "HEcj6_yu-6UC"
      },
      "execution_count": null,
      "outputs": []
    },
    {
      "cell_type": "code",
      "source": [
        "## Save the filepath to the data as a variable \"fpath\"\n"
      ],
      "metadata": {
        "id": "RNRLbRzC-5mo"
      },
      "execution_count": null,
      "outputs": []
    },
    {
      "cell_type": "code",
      "source": [
        "# Read in the file and disply the info and head\n"
      ],
      "metadata": {
        "id": "9cPeODRE9DoL"
      },
      "execution_count": null,
      "outputs": []
    },
    {
      "cell_type": "markdown",
      "source": [
        "## Explore Correlation"
      ],
      "metadata": {
        "id": "VR_fSrNdbIT3"
      }
    },
    {
      "cell_type": "markdown",
      "source": [
        "### 1\\) Correlation Heatmap"
      ],
      "metadata": {
        "id": "hmcNvvxXLwRu"
      }
    },
    {
      "cell_type": "markdown",
      "source": [
        "1a) Define a variable containing the correlations between variables in the insurance dataset. "
      ],
      "metadata": {
        "id": "ttw662JapJNP"
      }
    },
    {
      "cell_type": "code",
      "source": [
        "# Find correlations\n"
      ],
      "metadata": {
        "id": "1vDRFjeu9LQr"
      },
      "execution_count": null,
      "outputs": []
    },
    {
      "cell_type": "markdown",
      "source": [
        "1b) Make a heatmap of the correlations and annote with the values."
      ],
      "metadata": {
        "id": "vb1BhChppVoC"
      }
    },
    {
      "cell_type": "code",
      "source": [
        "# Make a heatmap using the correlations from above\n"
      ],
      "metadata": {
        "id": "K_TYp3K79DmA"
      },
      "execution_count": null,
      "outputs": []
    },
    {
      "cell_type": "markdown",
      "source": [
        "1c) **Are there arny strong correlations?\n",
        "Is it a positive or negative correlation?**\n",
        "\n",
        "- Your Answer: \n",
        "  - `...`\n"
      ],
      "metadata": {
        "id": "JZDmRGBo-DGz"
      }
    },
    {
      "cell_type": "markdown",
      "source": [
        "## Explore Charges vs. Smokers"
      ],
      "metadata": {
        "id": "dj5oPor-Y19m"
      }
    },
    {
      "cell_type": "markdown",
      "source": [
        "### 2\\) Barplot - Charges for Smokers vs. Non-Smokers"
      ],
      "metadata": {
        "id": "7PpiRtIBLzgn"
      }
    },
    {
      "cell_type": "markdown",
      "source": [
        "2a) Make a barplot to visualize the mean of charges for smokers and nonsmokers."
      ],
      "metadata": {
        "id": "UyB9PUdNptjt"
      }
    },
    {
      "cell_type": "code",
      "source": [
        "# Make a barplot of smoker vs charges\n"
      ],
      "metadata": {
        "id": "TI_mrF0vAPS-"
      },
      "execution_count": null,
      "outputs": []
    },
    {
      "cell_type": "markdown",
      "source": [
        "2b) Is the mean of charges higher for smokers or nonsmokers? ((In a future course, you will explore how to calculate the statistical significance of this difference)\n",
        "\n",
        "- Your Answer:\n",
        "  -  `...`"
      ],
      "metadata": {
        "id": "lK0eHR1RgWD_"
      }
    },
    {
      "cell_type": "markdown",
      "source": [
        "### 3\\) Boxplot - Charges for Smokers vs. Non-Smokers"
      ],
      "metadata": {
        "id": "tHgzMHxkL3Cc"
      }
    },
    {
      "cell_type": "markdown",
      "source": [
        "\n",
        "3a) Create a boxplot with x as smokers and y as charges. \n"
      ],
      "metadata": {
        "id": "eFx-SOEq0DYT"
      }
    },
    {
      "cell_type": "code",
      "source": [
        "# Create a boxplot of smoker vs. charges\n"
      ],
      "metadata": {
        "id": "z9rnjOFkzObW"
      },
      "execution_count": null,
      "outputs": []
    },
    {
      "cell_type": "markdown",
      "source": [
        "\n",
        "3b) What information does this include that you could not see in your bar chart?\n",
        "- Answer(s): \n",
        "  - `...`"
      ],
      "metadata": {
        "id": "6uFlbOsIz6N3"
      }
    },
    {
      "cell_type": "markdown",
      "source": [
        "## Explore Charges for Males vs. Females"
      ],
      "metadata": {
        "id": "32T0Br-eZcBR"
      }
    },
    {
      "cell_type": "markdown",
      "source": [
        "### 4\\) Barplot - Charges for Males vs. Females"
      ],
      "metadata": {
        "id": "cs6-YudvME0w"
      }
    },
    {
      "cell_type": "markdown",
      "source": [
        "4a) Make a searborn barplot to visualize the difference in charges between males and females."
      ],
      "metadata": {
        "id": "BetqhtEMhAwo"
      }
    },
    {
      "cell_type": "code",
      "source": [
        "# Make a barplot of sex vs. charges\n"
      ],
      "metadata": {
        "id": "nmc9xFvK_XjP"
      },
      "execution_count": null,
      "outputs": []
    },
    {
      "cell_type": "markdown",
      "source": [
        "4b)  Is the mean of charges higher for males or females?\n",
        "\n",
        "- Your Answer:\n",
        "  - `...`"
      ],
      "metadata": {
        "id": "kOBxlQA4hM8z"
      }
    },
    {
      "cell_type": "markdown",
      "source": [
        "### 5\\) Grouped Barplot - Charges by Sex and Smoker"
      ],
      "metadata": {
        "id": "fyPMjPvsML_z"
      }
    },
    {
      "cell_type": "markdown",
      "source": [
        "5a\\) Create a seaborn barplot to visualize the diference between insurance charges grouped by Smoker (on the x-axis), and Sex (the hue)."
      ],
      "metadata": {
        "id": "0roFJtUfMSgK"
      }
    },
    {
      "cell_type": "code",
      "source": [
        "# Create a barplot of smoker vs charges, colored by sex\n"
      ],
      "metadata": {
        "id": "The0CEelZCdH"
      },
      "execution_count": null,
      "outputs": []
    },
    {
      "cell_type": "markdown",
      "source": [
        "5b\\) What do you observe? Which of the 4 groups has the highest average charges? \n",
        "- Your Answer:\n",
        "  - `...`"
      ],
      "metadata": {
        "id": "gL_5Daj_hLSL"
      }
    },
    {
      "cell_type": "markdown",
      "source": [
        "## Explore Age vs. Charges"
      ],
      "metadata": {
        "id": "RMOnbmvYZUwc"
      }
    },
    {
      "cell_type": "markdown",
      "source": [
        "### 6\\) Scatter Plot - Age vs. Charges"
      ],
      "metadata": {
        "id": "UQQPDYTsMdaB"
      }
    },
    {
      "cell_type": "markdown",
      "source": [
        "6a) Make a scatterplot to visualize the relationship between charges and age for the entire dataset"
      ],
      "metadata": {
        "id": "nwZWcr1kg5wN"
      }
    },
    {
      "cell_type": "code",
      "source": [
        "# Create a scatter plot of age vs charges\n"
      ],
      "metadata": {
        "id": "jiV1VfSZ-qTl"
      },
      "execution_count": null,
      "outputs": []
    },
    {
      "cell_type": "markdown",
      "source": [
        "6b) Desribe what you notice from the visualization.\n",
        "- Your Answer:\n",
        "  - `...`"
      ],
      "metadata": {
        "id": "f5BzA-p5sHKN"
      }
    },
    {
      "cell_type": "markdown",
      "source": [
        "### 7\\)  Grouped Scatter Plot - Age vs. Charges, colored by Smoker"
      ],
      "metadata": {
        "id": "OI38q5mNMvSu"
      }
    },
    {
      "cell_type": "markdown",
      "source": [
        "7a) Make a scatterplot to visualize the relationship between charges and age, but colored by smoker or not."
      ],
      "metadata": {
        "id": "8GGC7UzsiPSG"
      }
    },
    {
      "cell_type": "code",
      "source": [
        "# make another scatterplot of age vs charges, but colored by smoker \n",
        "# (using seaborn will make this easy)\n"
      ],
      "metadata": {
        "id": "_YIARoyXBQVh"
      },
      "execution_count": null,
      "outputs": []
    },
    {
      "cell_type": "markdown",
      "source": [
        "7b) Desribe what you notice from the visualization."
      ],
      "metadata": {
        "id": "bWf9pnezsvKs"
      }
    },
    {
      "cell_type": "markdown",
      "source": [
        "- Your Answer:\n",
        "  - `...`"
      ],
      "metadata": {
        "id": "huf31CWsFEKH"
      }
    },
    {
      "cell_type": "markdown",
      "source": [
        "### 8\\) Grouped Scatter Plot - Age vs. Charges, colored by Sex"
      ],
      "metadata": {
        "id": "-PQQl-xCM0zp"
      }
    },
    {
      "cell_type": "markdown",
      "source": [
        "8a) Make a scatterplot to visualize the relationship between charges and age, but colored by sex."
      ],
      "metadata": {
        "id": "SY8ndoCSs5Sx"
      }
    },
    {
      "cell_type": "code",
      "source": [
        "# make another scatterplot of charges vs age, but this time color the dots by sex\n"
      ],
      "metadata": {
        "id": "IRljiwsLE8RO"
      },
      "execution_count": null,
      "outputs": []
    },
    {
      "cell_type": "markdown",
      "source": [
        "8b) Describe what you notice from the visualization\n",
        "\n",
        "- Your Answer:\n",
        "  - `...`"
      ],
      "metadata": {
        "id": "TYOdVfj7jHn9"
      }
    },
    {
      "cell_type": "markdown",
      "source": [
        "## Explore BMI"
      ],
      "metadata": {
        "id": "pn4FtAZ2YMhi"
      }
    },
    {
      "cell_type": "markdown",
      "source": [
        "### 9\\) Regplot - Charges vs. BMI"
      ],
      "metadata": {
        "id": "UvrBrI1GM5JN"
      }
    },
    {
      "cell_type": "markdown",
      "source": [
        "9a) Make a seaborn regplot to visualize the relationship between charges and bmi for the entire dataset"
      ],
      "metadata": {
        "id": "7J8rjC4Cj4B_"
      }
    },
    {
      "cell_type": "code",
      "source": [
        "# Make a seaborn regplot for bmi vs. charges. \n"
      ],
      "metadata": {
        "id": "ZeUYTsoEuGSf"
      },
      "execution_count": null,
      "outputs": []
    },
    {
      "cell_type": "markdown",
      "source": [
        "9b\\) What do you notice from the visualization? *(There are many correct answers.)*\n",
        "\n",
        "- Your Answer:\n",
        "  - `...`"
      ],
      "metadata": {
        "id": "rzBE8eXvM-qW"
      }
    },
    {
      "cell_type": "markdown",
      "source": [
        "### 10\\) Scatterplot - Charges vs. BMI - Colored by Smoker"
      ],
      "metadata": {
        "id": "RCH5F9l5NNVv"
      }
    },
    {
      "cell_type": "markdown",
      "source": [
        "10a) Make a scatterplot to visualize the relationship between charges and bmi colored by smoker or not"
      ],
      "metadata": {
        "id": "a2uDSYjNuSQj"
      }
    },
    {
      "cell_type": "code",
      "source": [
        "# Make a scatterplot of bmi vs charges, colored by smoker\n"
      ],
      "metadata": {
        "id": "g_Bdi_8WuZfU"
      },
      "execution_count": null,
      "outputs": []
    },
    {
      "cell_type": "markdown",
      "source": [
        "10b) What do you notice from the visualization? (There are many correct answers.)\n",
        "\n",
        "- Your Answer:\n",
        "  - `...`"
      ],
      "metadata": {
        "id": "XquSC_xhi25w"
      }
    },
    {
      "cell_type": "markdown",
      "source": [
        "### 11\\)  Linear Model Plot - Charges vs. BMI - Colored by Smoker\n"
      ],
      "metadata": {
        "id": "-rD-8K2PRaCm"
      }
    },
    {
      "cell_type": "markdown",
      "source": [
        "\n",
        "11a) Compare the relationship of bmi and charges for smokers and nonsmokers using seaborn's `lmplot` to calculate a separate trendline for Smokers vs. Non-Smokers.\n"
      ],
      "metadata": {
        "id": "EH5e56Z80Q1R"
      }
    },
    {
      "cell_type": "code",
      "source": [
        "# Create an lmplot of bmi vs. charges, colored by smoker.\n"
      ],
      "metadata": {
        "id": "O-Ez0DEuyP5r"
      },
      "execution_count": null,
      "outputs": []
    },
    {
      "cell_type": "markdown",
      "source": [
        "11b) What do you notice from the visualization? (Compare the trendlines.)\n",
        "\n",
        "- Your Answer:\n",
        "  - `...`"
      ],
      "metadata": {
        "id": "x1j4i0yTfPHm"
      }
    },
    {
      "cell_type": "markdown",
      "source": [
        "## Explore Regions"
      ],
      "metadata": {
        "id": "7y756yyjX0Wj"
      }
    },
    {
      "cell_type": "markdown",
      "source": [
        "### 12\\) Countplot for Regions"
      ],
      "metadata": {
        "id": "NLzsUiDKXul_"
      }
    },
    {
      "cell_type": "markdown",
      "source": [
        "12a) Make a countplot to show how many customers per region."
      ],
      "metadata": {
        "id": "agKq6QN5zwp_"
      }
    },
    {
      "cell_type": "code",
      "source": [
        "# Make a countplot for region\n"
      ],
      "metadata": {
        "id": "IEohISP3airl"
      },
      "execution_count": null,
      "outputs": []
    },
    {
      "cell_type": "markdown",
      "source": [
        "12b) Which region appears the most in this data set?\n",
        "\n",
        "- Your Answer:\n",
        "  - `...`"
      ],
      "metadata": {
        "id": "6JH_3o7hYVtZ"
      }
    },
    {
      "cell_type": "markdown",
      "source": [
        "### 13\\) Barplot of Charges by Region"
      ],
      "metadata": {
        "id": "wkra4PVHYRXj"
      }
    },
    {
      "cell_type": "markdown",
      "source": [
        "13a) Make a barplot to show average charges by region."
      ],
      "metadata": {
        "id": "1QwpLsKeycrm"
      }
    },
    {
      "cell_type": "code",
      "source": [
        "# make a barplot of charges by region\n"
      ],
      "metadata": {
        "id": "5fcE5TI3XDB6"
      },
      "execution_count": null,
      "outputs": []
    },
    {
      "cell_type": "markdown",
      "source": [
        "13b) Which region has the highest average charges?\n",
        "\n",
        "- Your Answer:\n",
        "  - `...`"
      ],
      "metadata": {
        "id": "7cjEPw2pYjwY"
      }
    },
    {
      "cell_type": "markdown",
      "source": [
        "### 14\\) Bar Chart of Ratios (%) of Smokers in Each Region"
      ],
      "metadata": {
        "id": "jeDz5cd9Yr21"
      }
    },
    {
      "cell_type": "markdown",
      "source": [
        "14a) Calculate the ratio of smokers in each region and save it as a variable called \"percent_smoker_by_region\". (Hint: use .groupby with \"region\" combined with slicing the \"smoker\" column and end with .mean() )"
      ],
      "metadata": {
        "id": "D6ENfzEdu-JG"
      }
    },
    {
      "cell_type": "code",
      "source": [
        "# use groupby to get the mean of smoker grouped by region\n"
      ],
      "metadata": {
        "id": "oQnOHn7rbwsO"
      },
      "execution_count": null,
      "outputs": []
    },
    {
      "cell_type": "markdown",
      "source": [
        "14b) Plot the ratios of smokers by region as a bar plot.\n",
        "\n"
      ],
      "metadata": {
        "id": "-uWkQ8pDu9o9"
      }
    },
    {
      "cell_type": "code",
      "source": [
        "# Plot the ratios (the results of then groupby above)\n"
      ],
      "metadata": {
        "id": "Edk78zMxdCvo"
      },
      "execution_count": null,
      "outputs": []
    },
    {
      "cell_type": "markdown",
      "source": [
        "14c) Which region has the highest ratio of smokers?\n",
        "\n",
        "- Your Answer:\n",
        "  - `...`"
      ],
      "metadata": {
        "id": "opJFbsbFzp0V"
      }
    },
    {
      "cell_type": "markdown",
      "source": [
        "> You've completed the assignment! Download your notebook and upload it as your submission."
      ],
      "metadata": {
        "id": "qSNHs00FcsNQ"
      }
    }
  ]
}